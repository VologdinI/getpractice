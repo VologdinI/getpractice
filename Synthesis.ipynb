{
 "cells": [
  {
   "cell_type": "code",
   "execution_count": 130,
   "metadata": {},
   "outputs": [],
   "source": [
    "import sympy as smp\n",
    "import numpy as np\n",
    "from IPython.display import Math, Latex"
   ]
  },
  {
   "cell_type": "code",
   "execution_count": 131,
   "metadata": {},
   "outputs": [],
   "source": [
    "s, z = smp.symbols(\"s, z\")\n",
    "Ko_num = smp.Poly([0, 0, 0.255, 0.134], z)\n",
    "Ko_den = smp.Poly([25, -28.83, 3.38], z)"
   ]
  },
  {
   "cell_type": "code",
   "execution_count": 132,
   "metadata": {},
   "outputs": [
    {
     "data": {
      "text/latex": [
       "$\\displaystyle K_{nc} = $"
      ],
      "text/plain": [
       "<IPython.core.display.Math object>"
      ]
     },
     "metadata": {},
     "output_type": "display_data"
    },
    {
     "data": {
      "text/latex": [
       "$\\displaystyle \\frac{0.255 z + 0.134}{25.0 z^{2} - 28.83 z + 3.38}$"
      ],
      "text/plain": [
       "(0.255*z + 0.134)/(25.0*z**2 - 28.83*z + 3.38)"
      ]
     },
     "metadata": {},
     "output_type": "display_data"
    },
    {
     "data": {
      "text/latex": [
       "Учтем задержку в вычислительном устройстве и домножим ПФ на $\\frac{1}{z}$"
      ],
      "text/plain": [
       "<IPython.core.display.Latex object>"
      ]
     },
     "metadata": {},
     "output_type": "display_data"
    },
    {
     "data": {
      "text/latex": [
       "$\\displaystyle K_{nc} = $"
      ],
      "text/plain": [
       "<IPython.core.display.Math object>"
      ]
     },
     "metadata": {},
     "output_type": "display_data"
    },
    {
     "data": {
      "text/latex": [
       "$\\displaystyle \\frac{0.255 z + 0.134}{z \\left(25.0 z^{2} - 28.83 z + 3.38\\right)}$"
      ],
      "text/plain": [
       "(0.255*z + 0.134)/(z*(25.0*z**2 - 28.83*z + 3.38))"
      ]
     },
     "metadata": {},
     "output_type": "display_data"
    }
   ],
   "source": [
    "Ko = Ko_num / Ko_den\n",
    "display(Math(r\"K_{nc} = \"))\n",
    "display(Ko)\n",
    "display(Latex(r\"Учтем задержку в вычислительном устройстве и домножим ПФ на $\\frac{1}{z}$\"))\n",
    "Ko *= 1/z\n",
    "display(Math(r\"K_{nc} = \"))\n",
    "display(Ko)"
   ]
  },
  {
   "cell_type": "code",
   "execution_count": 133,
   "metadata": {},
   "outputs": [],
   "source": [
    "B, A = smp.fraction(Ko)\n",
    "B = smp.Poly(B)\n",
    "A = smp.Poly(A)"
   ]
  },
  {
   "cell_type": "code",
   "execution_count": 135,
   "metadata": {},
   "outputs": [],
   "source": [
    "j = 0"
   ]
  },
  {
   "cell_type": "markdown",
   "metadata": {},
   "source": [
    "Чтобы у полиномиального уравнения существовало решение, необходимо выбирать порядки полиномов следующим образом:\n",
    "$$\n",
    "\\begin{align}\n",
    "&\\deg D_з(z) = 2 \\cdot \\deg A(z) - 1 = 2 \\cdot 4 - 1 = 7 \\\\\n",
    "&\\deg Q_р(z) = \\deg A(z) - 1 = 4 - 1 = 3 \\\\\n",
    "&\\deg C_р(z) = \\deg A(z) - 1 = 4 - 1 = 3\n",
    "\\end{align}\n",
    "$$\n",
    "Полученный полином замкнутой системы задается своими корнями.\n",
    "$$D_з(z) = \\prod_{i=1}^n (z - z_i) \\qquad |z_i| < 1,\\quad i = 1,2,...,n$$"
   ]
  },
  {
   "cell_type": "code",
   "execution_count": 136,
   "metadata": {},
   "outputs": [],
   "source": [
    "deg_A = smp.degree(A)\n",
    "deg_B = smp.degree(B)\n",
    "deg_D = 2 * deg_A +j - 1\n",
    "deg_Q = deg_A - 1 \n",
    "deg_C = deg_A + j - 1"
   ]
  },
  {
   "cell_type": "code",
   "execution_count": 78,
   "metadata": {},
   "outputs": [
    {
     "data": {
      "text/latex": [
       "$\\displaystyle 3$"
      ],
      "text/plain": [
       "3"
      ]
     },
     "execution_count": 78,
     "metadata": {},
     "output_type": "execute_result"
    }
   ],
   "source": [
    "deg_C"
   ]
  },
  {
   "cell_type": "markdown",
   "metadata": {},
   "source": [
    "Зададим корни желаемого полинома"
   ]
  },
  {
   "cell_type": "code",
   "execution_count": 191,
   "metadata": {},
   "outputs": [
    {
     "data": {
      "text/latex": [
       "$\\displaystyle D(z) = $"
      ],
      "text/plain": [
       "<IPython.core.display.Math object>"
      ]
     },
     "metadata": {},
     "output_type": "display_data"
    },
    {
     "data": {
      "text/latex": [
       "$\\displaystyle \\operatorname{Poly}{\\left( 1.0 z^{5} - 2.5 z^{4} + 2.5 z^{3} - 1.25 z^{2} + 0.3125 z - 0.03125, z, domain=\\mathbb{R} \\right)}$"
      ],
      "text/plain": [
       "Poly(1.0*z**5 - 2.5*z**4 + 2.5*z**3 - 1.25*z**2 + 0.3125*z - 0.03125, z, domain='RR')"
      ]
     },
     "metadata": {},
     "output_type": "display_data"
    }
   ],
   "source": [
    "roots = [0.5, 0.5, 0.5, 0.5,0.5]\n",
    "assert len(roots) == deg_D\n",
    "D = 1\n",
    "for r in roots:\n",
    "    D *= (z-r)\n",
    "D = smp.Poly(D)\n",
    "display(Math(r\"D(z) = \"))\n",
    "display(D)"
   ]
  },
  {
   "cell_type": "code",
   "execution_count": 192,
   "metadata": {},
   "outputs": [],
   "source": [
    "As = A.all_coeffs()\n",
    "Bs = B.all_coeffs()\n",
    "Ds = D.all_coeffs()\n",
    "while len(Bs) < len(As):\n",
    "    Bs.insert(0, 0)"
   ]
  },
  {
   "cell_type": "code",
   "execution_count": 193,
   "metadata": {},
   "outputs": [
    {
     "data": {
      "text/latex": [
       "$\\displaystyle 25.0$"
      ],
      "text/plain": [
       "25.0000000000000"
      ]
     },
     "execution_count": 193,
     "metadata": {},
     "output_type": "execute_result"
    }
   ],
   "source": [
    "As[0]"
   ]
  },
  {
   "cell_type": "code",
   "execution_count": 194,
   "metadata": {},
   "outputs": [],
   "source": [
    "LMat = np.array([[As[0],0,0,Bs[0],0,0],[As[1],As[0],0,Bs[1],Bs[0],0],[As[2],As[1],As[0],Bs[2],Bs[1],Bs[0]],[As[3],As[2],As[1],Bs[3],Bs[2],Bs[1]],[0,As[3],As[2],0,Bs[3],Bs[2]],[0,0,As[3],0,0,Bs[3]]], dtype=float)"
   ]
  },
  {
   "cell_type": "code",
   "execution_count": 107,
   "metadata": {},
   "outputs": [],
   "source": [
    "LMat = np.zeros((len(Ds), len(Ds)), dtype=float)\n",
    "#LMat = smp.zeros(len(Ds), len(Ds))\n",
    "half = deg_D//2\n",
    "half = half if half%2==0 else half+1\n",
    "LMat = np.array([[As[0],0,0,Bs[0],0,0,0],[As[1] - As[0],As[0],0,Bs[1],Bs[0],0,0],[As[2]-As[1],As[1]-As[0],As[0],Bs[2],Bs[1],Bs[0],0],[As[3]-As[2],As[2]-As[1],As[1]-As[0],Bs[3],Bs[2],Bs[1],Bs[0]],[-As[3],As[3]-As[2],As[2]-As[1],0,Bs[3],Bs[2],Bs[1]],[0,-As[3],As[3]-As[2],0,0,Bs[3],Bs[2]],[0,0,-As[3],0,0,0,Bs[3]]], dtype=float)\n",
    "# for i in range(LMat.shape[0]):\n",
    "#     for j in range(i, -1, -1):\n",
    "#         print(i,j)\n",
    "#         if j >= half:\n",
    "#             continue\n",
    "#         if not i-j >= len(As):\n",
    "#             LMat[i][j] = As[i-j]\n",
    "#         if not i-j >= len(Bs):\n",
    "#             LMat[i][j+half] = Bs[i-j]"
   ]
  },
  {
   "cell_type": "code",
   "execution_count": 195,
   "metadata": {},
   "outputs": [
    {
     "data": {
      "text/plain": [
       "array([[ 25.   ,   0.   ,   0.   ,   0.   ,   0.   ,   0.   ],\n",
       "       [-28.83 ,  25.   ,   0.   ,   0.   ,   0.   ,   0.   ],\n",
       "       [  3.38 , -28.83 ,  25.   ,   0.255,   0.   ,   0.   ],\n",
       "       [  0.   ,   3.38 , -28.83 ,   0.134,   0.255,   0.   ],\n",
       "       [  0.   ,   0.   ,   3.38 ,   0.   ,   0.134,   0.255],\n",
       "       [  0.   ,   0.   ,   0.   ,   0.   ,   0.   ,   0.134]])"
      ]
     },
     "execution_count": 195,
     "metadata": {},
     "output_type": "execute_result"
    }
   ],
   "source": [
    "LMat"
   ]
  },
  {
   "cell_type": "code",
   "execution_count": 196,
   "metadata": {},
   "outputs": [
    {
     "data": {
      "text/plain": [
       "[1.00000000000000,\n",
       " -2.50000000000000,\n",
       " 2.50000000000000,\n",
       " -1.25000000000000,\n",
       " 0.312500000000000,\n",
       " -0.0312500000000000]"
      ]
     },
     "execution_count": 196,
     "metadata": {},
     "output_type": "execute_result"
    }
   ],
   "source": [
    "Ds"
   ]
  },
  {
   "cell_type": "code",
   "execution_count": 197,
   "metadata": {},
   "outputs": [],
   "source": [
    "QCs = np.linalg.solve(LMat, np.array(Ds, dtype=float))"
   ]
  },
  {
   "cell_type": "code",
   "execution_count": 198,
   "metadata": {},
   "outputs": [
    {
     "data": {
      "text/latex": [
       "$\\displaystyle Q(z) =$"
      ],
      "text/plain": [
       "<IPython.core.display.Math object>"
      ]
     },
     "metadata": {},
     "output_type": "display_data"
    },
    {
     "data": {
      "text/latex": [
       "$\\displaystyle \\operatorname{Poly}{\\left( 0.04 z^{2} - 0.053872 z + 0.0455024238508839, z, domain=\\mathbb{R} \\right)}$"
      ],
      "text/plain": [
       "Poly(0.04*z**2 - 0.053872*z + 0.0455024238508839, z, domain='RR')"
      ]
     },
     "metadata": {},
     "output_type": "display_data"
    },
    {
     "data": {
      "text/latex": [
       "$\\displaystyle C(z) =$"
      ],
      "text/plain": [
       "<IPython.core.display.Math object>"
      ]
     },
     "metadata": {},
     "output_type": "display_data"
    },
    {
     "data": {
      "text/latex": [
       "$\\displaystyle \\operatorname{Poly}{\\left( -1.27800139714548 z^{2} + 1.62813500720972 z - 0.233208955223881, z, domain=\\mathbb{R} \\right)}$"
      ],
      "text/plain": [
       "Poly(-1.27800139714548*z**2 + 1.62813500720972*z - 0.233208955223881, z, domain='RR')"
      ]
     },
     "metadata": {},
     "output_type": "display_data"
    }
   ],
   "source": [
    "Qs = QCs[:len(QCs)//2]\n",
    "Cs = QCs[len(QCs)//2:]\n",
    "Q = smp.Poly(Qs, z)\n",
    "C = smp.Poly(Cs, z)\n",
    "display(Math(r\"Q(z) =\"))\n",
    "display(Q)\n",
    "display(Math(r\"C(z) =\"))\n",
    "display(C)"
   ]
  },
  {
   "cell_type": "code",
   "execution_count": 199,
   "metadata": {},
   "outputs": [
    {
     "data": {
      "text/latex": [
       "$\\displaystyle K_{c} = $"
      ],
      "text/plain": [
       "<IPython.core.display.Math object>"
      ]
     },
     "metadata": {},
     "output_type": "display_data"
    },
    {
     "data": {
      "text/latex": [
       "$\\displaystyle \\frac{- 1.27800139714548 z^{2} + 1.62813500720972 z - 0.233208955223881}{0.04 z^{2} - 0.053872 z + 0.0455024238508839}$"
      ],
      "text/plain": [
       "(-1.27800139714548*z**2 + 1.62813500720972*z - 0.233208955223881)/(0.04*z**2 - 0.053872*z + 0.0455024238508839)"
      ]
     },
     "metadata": {},
     "output_type": "display_data"
    }
   ],
   "source": [
    "Kc = C/(Q)\n",
    "display(Math(r\"K_{c} = \"))\n",
    "display(Kc)"
   ]
  },
  {
   "cell_type": "code",
   "execution_count": 200,
   "metadata": {},
   "outputs": [],
   "source": [
    "def print_matlab_coeffs(arr):\n",
    "    print(\"[\", end=\"\")\n",
    "    for a in arr:\n",
    "        print(a, end=\" \")\n",
    "    print(\"]\")\n",
    "\n",
    "def print_matlab_coeffs_tf(tf):\n",
    "    num, den = smp.fraction(tf)\n",
    "    num = smp.Poly(num, z).all_coeffs()\n",
    "    den = smp.Poly(den, z).all_coeffs()\n",
    "    print_matlab_coeffs(num)\n",
    "    print_matlab_coeffs(den)"
   ]
  },
  {
   "cell_type": "code",
   "execution_count": 201,
   "metadata": {},
   "outputs": [
    {
     "name": "stdout",
     "output_type": "stream",
     "text": [
      "[-1.2780013971454816 1.6281350072097163 -0.23320895522388058 ]\n",
      "[0.03999999999999999 -0.05387200000000002 0.045502423850883905 ]\n"
     ]
    }
   ],
   "source": [
    "print_matlab_coeffs(Cs)\n",
    "print_matlab_coeffs(Qs)"
   ]
  },
  {
   "cell_type": "code",
   "execution_count": 155,
   "metadata": {},
   "outputs": [
    {
     "data": {
      "text/latex": [
       "$\\displaystyle \\operatorname{Poly}{\\left( 0.04 z^{3} - 0.093872 z^{2} + 0.0993744238508839 z - 0.0455024238508839, z, domain=\\mathbb{R} \\right)}$"
      ],
      "text/plain": [
       "Poly(0.04*z**3 - 0.093872*z**2 + 0.0993744238508839*z - 0.0455024238508839, z, domain='RR')"
      ]
     },
     "execution_count": 155,
     "metadata": {},
     "output_type": "execute_result"
    }
   ],
   "source": [
    "Q*(z-1)"
   ]
  },
  {
   "cell_type": "code",
   "execution_count": 47,
   "metadata": {},
   "outputs": [
    {
     "data": {
      "text/plain": [
       "{-0.749999999999998: 1,\n",
       " -0.500000000000002: 1,\n",
       " -0.249999999999999: 1,\n",
       " 0.100000000000000: 1,\n",
       " 0.300000000000002: 1,\n",
       " 0.599999999999992: 1,\n",
       " 0.800000000000005: 1}"
      ]
     },
     "execution_count": 47,
     "metadata": {},
     "output_type": "execute_result"
    }
   ],
   "source": [
    "W = Kc * Ko\n",
    "Phi = smp.simplify(W / (1 + W))\n",
    "num_Phi, den_Phi = smp.fraction(Phi)\n",
    "smp.roots(den_Phi)"
   ]
  },
  {
   "cell_type": "code",
   "execution_count": 48,
   "metadata": {},
   "outputs": [
    {
     "data": {
      "text/plain": [
       "{-1.45134725204630: 1,\n",
       " 0.00303544923237146: 1,\n",
       " 0.233805890691113: 1,\n",
       " 0.799029237922506 - 0.0527990613901999*I: 1,\n",
       " 0.799029237922506 + 0.0527990613901999*I: 1}"
      ]
     },
     "execution_count": 48,
     "metadata": {},
     "output_type": "execute_result"
    }
   ],
   "source": [
    "smp.roots(num_Phi)"
   ]
  },
  {
   "cell_type": "code",
   "execution_count": 51,
   "metadata": {},
   "outputs": [
    {
     "name": "stdout",
     "output_type": "stream",
     "text": [
      "[2.04393216242594 -0.783955420972727 -3.35745561092059 2.71433211545817 -0.452952973914017 0.00135000000000000 ]\n",
      "[1.00000000000000 -0.299999999999999 -2.98643216242594 1.01120542097273 3.58773061092059 -2.75329461545817 0.440915473914017 0.0 ]\n"
     ]
    }
   ],
   "source": [
    "print_matlab_coeffs_tf(W)"
   ]
  }
 ],
 "metadata": {
  "kernelspec": {
   "display_name": "Python 3",
   "language": "python",
   "name": "python3"
  },
  "language_info": {
   "codemirror_mode": {
    "name": "ipython",
    "version": 3
   },
   "file_extension": ".py",
   "mimetype": "text/x-python",
   "name": "python",
   "nbconvert_exporter": "python",
   "pygments_lexer": "ipython3",
   "version": "3.8.5"
  }
 },
 "nbformat": 4,
 "nbformat_minor": 5
}
